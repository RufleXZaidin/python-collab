{
  "nbformat": 4,
  "nbformat_minor": 0,
  "metadata": {
    "colab": {
      "provenance": [],
      "authorship_tag": "ABX9TyO0360vX0Yf4yxsIvMunPw7",
      "include_colab_link": true
    },
    "kernelspec": {
      "name": "python3",
      "display_name": "Python 3"
    },
    "language_info": {
      "name": "python"
    }
  },
  "cells": [
    {
      "cell_type": "markdown",
      "metadata": {
        "id": "view-in-github",
        "colab_type": "text"
      },
      "source": [
        "<a href=\"https://colab.research.google.com/github/RufleXZaidin/python-collab/blob/main/DAW2a.ipynb\" target=\"_parent\"><img src=\"https://colab.research.google.com/assets/colab-badge.svg\" alt=\"Open In Colab\"/></a>"
      ]
    },
    {
      "cell_type": "markdown",
      "source": [
        "# Python"
      ],
      "metadata": {
        "id": "OFUFDIqANSeS"
      }
    },
    {
      "cell_type": "code",
      "source": [
        "#versión de Python , !sirve para ejecutar la sentencia en el sistema administrativo\n",
        "!python --version\n"
      ],
      "metadata": {
        "id": "phY9ne66N_kB"
      },
      "execution_count": null,
      "outputs": []
    },
    {
      "cell_type": "code",
      "source": [
        "!pip install pillow"
      ],
      "metadata": {
        "id": "iGIpRvZNPIc4"
      },
      "execution_count": null,
      "outputs": []
    },
    {
      "cell_type": "code",
      "source": [
        "from PIL import Image\n",
        "im = Image.open('foto.jpg')\n",
        "im\n"
      ],
      "metadata": {
        "id": "ArglIFIbP0kR"
      },
      "execution_count": null,
      "outputs": []
    },
    {
      "cell_type": "code",
      "execution_count": 3,
      "metadata": {
        "id": "VUBNxuQCNCJO"
      },
      "outputs": [],
      "source": [
        "#cuaderno de Jupyter\n",
        "lenguaje = 'Python 3.9'"
      ]
    },
    {
      "cell_type": "code",
      "source": [
        "print(lenguaje)"
      ],
      "metadata": {
        "id": "uz8cOl9JNrIJ"
      },
      "execution_count": null,
      "outputs": []
    },
    {
      "cell_type": "code",
      "source": [
        "def ejemplo():\n",
        "  return 3"
      ],
      "metadata": {
        "id": "Qlt8zu85N0Lx"
      },
      "execution_count": 5,
      "outputs": []
    },
    {
      "cell_type": "code",
      "source": [
        "ejemplo()"
      ],
      "metadata": {
        "id": "QzEqhKnUOTRR"
      },
      "execution_count": null,
      "outputs": []
    },
    {
      "cell_type": "code",
      "source": [],
      "metadata": {
        "id": "bO2SSHWpOhXM"
      },
      "execution_count": null,
      "outputs": []
    }
  ]
}